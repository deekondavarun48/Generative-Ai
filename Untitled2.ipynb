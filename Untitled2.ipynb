{
  "nbformat": 4,
  "nbformat_minor": 0,
  "metadata": {
    "colab": {
      "provenance": [],
      "authorship_tag": "ABX9TyOguugcIBKQe5cGLRm6Ua/3",
      "include_colab_link": true
    },
    "kernelspec": {
      "name": "python3",
      "display_name": "Python 3"
    },
    "language_info": {
      "name": "python"
    }
  },
  "cells": [
    {
      "cell_type": "markdown",
      "metadata": {
        "id": "view-in-github",
        "colab_type": "text"
      },
      "source": [
        "<a href=\"https://colab.research.google.com/github/deekondavarun48/Generative-Ai/blob/main/Untitled2.ipynb\" target=\"_parent\"><img src=\"https://colab.research.google.com/assets/colab-badge.svg\" alt=\"Open In Colab\"/></a>"
      ]
    },
    {
      "cell_type": "code",
      "execution_count": null,
      "metadata": {
        "id": "1VqOeZkzqwSF"
      },
      "outputs": [],
      "source": []
    },
    {
      "source": [
        "# Main function\n",
        "def main():\n",
        "    templates = define_email_templates()\n",
        "\n",
        "    print(\"Available Templates:\")\n",
        "    for template_name in templates:\n",
        "        print(f\"- {template_name}\")\n",
        "    print(\"- custom (AI-generated custom email)\")\n",
        "\n",
        "    template_name = input(\"Enter the template name you want to use: \")\n",
        "    user_data = collect_user_input(template_name)\n",
        "\n",
        "    if user_data:\n",
        "        personalized_email = generate_email(template_name, user_data, templates)\n",
        "\n",
        "        if personalized_email:\n",
        "            print(\"\\n--- Personalized Email ---\")\n",
        "            print(personalized_email)\n",
        "\n",
        "            if input(\"Do you want to save the email to a file? (y/n): \").strip().lower() == 'y':\n",
        "                filename = input(\"Enter the filename: \").strip()\n",
        "                try:\n",
        "                    with open(filename, \"w\") as f:\n",
        "                        f.write(personalized_email)\n",
        "                    print(f\"Email saved to {filename}\")\n",
        "                except Exception as e:\n",
        "                    print(f\"Error saving to file: {e}\")\n",
        "\n",
        "if __name__ == \"__main__\": # Changed _name_ to __name__\n",
        "    main()"
      ],
      "cell_type": "code",
      "metadata": {
        "id": "J_CQRTGfrFpp"
      },
      "execution_count": null,
      "outputs": []
    },
    {
      "cell_type": "code",
      "source": [
        "# Main function\n",
        "def main():\n",
        "    templates = define_email_templates()\n",
        "\n",
        "    print(\"Available Templates:\")\n",
        "    for template_name in templates:\n",
        "        print(f\"- {template_name}\")\n",
        "    print(\"- custom (AI-generated custom email)\")\n",
        "\n",
        "    template_name = input(\"Enter the template name you want to use: \")\n",
        "    user_data = collect_user_input(template_name)\n",
        "\n",
        "    if user_data:\n",
        "        personalized_email = generate_email(template_name, user_data, templates)\n",
        "\n",
        "        if personalized_email:\n",
        "            print(\"\\n--- Personalized Email ---\")\n",
        "            print(personalized_email)\n",
        "\n",
        "            if input(\"Do you want to save the email to a file? (y/n): \").strip().lower() == 'y':\n",
        "                filename = input(\"Enter the filename: \").strip()\n",
        "                try:\n",
        "                    with open(filename, \"w\") as f:\n",
        "                        f.write(personalized_email)\n",
        "                    print(f\"Email saved to {filename}\")\n",
        "                except Exception as e:\n",
        "                    print(f\"Error saving to file: {e}\")\n",
        "\n",
        "if __name__ == \"__main__\": # Changed _name_ to __name__\n",
        "    main()"
      ],
      "metadata": {
        "colab": {
          "base_uri": "https://localhost:8080/"
        },
        "id": "g1MJ5daKrH5R",
        "outputId": "6d2354a1-94c8-40eb-dfe0-6c51bed50f0d"
      },
      "execution_count": 3,
      "outputs": [
        {
          "name": "stdout",
          "output_type": "stream",
          "text": [
            "Available Templates:\n",
            "- meeting_invite\n",
            "- thank_you\n",
            "- general\n",
            "- follow_up\n",
            "- introduction\n",
            "- custom (AI-generated custom email)\n",
            "Enter the template name you want to use: introduction\n",
            "Recipient's Name: nikhil\n",
            "Your Name: navven\n",
            "Your Title/Position: manager\n",
            "Introduction Content (or type 'generate' for AI-generated content): generate\n",
            "\n",
            "--- Personalized Email ---\n",
            "\n",
            "        Subject: Introduction - navven\n",
            "\n",
            "        Dear nikhil,\n",
            "\n",
            "        I'm writing to introduce myself as the {sender_title}. I've been following your company's achievements with great interest, especially your recent initiatives in our shared field.\n",
            "\n",
            "        I would appreciate the opportunity to connect and discuss how we might work together.\n",
            "\n",
            "        Best regards,\n",
            "        navven\n",
            "        manager\n",
            "        \n",
            "Do you want to save the email to a file? (y/n): n\n"
          ]
        }
      ]
    }
  ]
}